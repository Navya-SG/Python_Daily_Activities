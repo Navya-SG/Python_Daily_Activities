{
 "cells": [
  {
   "cell_type": "code",
   "execution_count": 14,
   "id": "97907e5a-ba1f-4d67-823b-42122b74146d",
   "metadata": {},
   "outputs": [],
   "source": [
    "import zipfile\n",
    "import os"
   ]
  },
  {
   "cell_type": "code",
   "execution_count": 15,
   "id": "24060d32-788b-44f0-bd63-39eec23fd376",
   "metadata": {},
   "outputs": [],
   "source": [
    "def create_folder(folder_list):\n",
    "    for folder in folder_list:\n",
    "        os.makedirs(folder, exist_ok=True)"
   ]
  },
  {
   "cell_type": "code",
   "execution_count": 16,
   "id": "b8e410bd-8ba4-4bd2-bf75-2978aa715086",
   "metadata": {},
   "outputs": [],
   "source": [
    "def unzip_files(zip_path,extract_to):\n",
    "    with zipfile.ZipFile(zip_path,\"r\") as zf:\n",
    "        zf.extractall(extract_to)\n",
    "    return [os.path.join(extract_to,f) for f in os.listdir(extract_to)]"
   ]
  },
  {
   "cell_type": "code",
   "execution_count": 17,
   "id": "302d61b8-dc1d-4bd4-80f1-4ac6facc8a45",
   "metadata": {},
   "outputs": [],
   "source": [
    "def move_files(file_list,json_folder,csv_folder):\n",
    "    for file_path in file_list:\n",
    "        file_name = os.path.basename(file_path)\n",
    "        if file_path.endswith(\".json\"):\n",
    "            os.rename(file_path,os.path.join(json_folder,file_name))\n",
    "        if file_path.endswith(\".csv\"):\n",
    "            os.rename(file_path,os.path.join(csv_folder,file_name))"
   ]
  },
  {
   "cell_type": "code",
   "execution_count": 18,
   "id": "37e65d05-a9ab-44f8-9863-1632a2361eb0",
   "metadata": {},
   "outputs": [],
   "source": [
    "create_folder=['json_folder','csv_folder','temp_extract']"
   ]
  },
  {
   "cell_type": "code",
   "execution_count": 19,
   "id": "97ad2bc6-1b4e-4a68-9f7f-bce705e765fe",
   "metadata": {},
   "outputs": [],
   "source": [
    "zip_files = ['','','']"
   ]
  },
  {
   "cell_type": "code",
   "execution_count": 20,
   "id": "c6e63a92-34ef-4b1f-a3ee-df36415909ef",
   "metadata": {},
   "outputs": [
    {
     "ename": "FileNotFoundError",
     "evalue": "[Errno 2] No such file or directory: ''",
     "output_type": "error",
     "traceback": [
      "\u001b[31m---------------------------------------------------------------------------\u001b[39m",
      "\u001b[31mFileNotFoundError\u001b[39m                         Traceback (most recent call last)",
      "\u001b[36mCell\u001b[39m\u001b[36m \u001b[39m\u001b[32mIn[20]\u001b[39m\u001b[32m, line 2\u001b[39m\n\u001b[32m      1\u001b[39m \u001b[38;5;28;01mfor\u001b[39;00m file \u001b[38;5;129;01min\u001b[39;00m zip_files:\n\u001b[32m----> \u001b[39m\u001b[32m2\u001b[39m     extracted_files = \u001b[43munzip_files\u001b[49m\u001b[43m(\u001b[49m\u001b[43mfile\u001b[49m\u001b[43m,\u001b[49m\u001b[33;43m\"\u001b[39;49m\u001b[33;43mtemp_extract\u001b[39;49m\u001b[33;43m\"\u001b[39;49m\u001b[43m)\u001b[49m\n\u001b[32m      3\u001b[39m     move_files(extracted_files,\u001b[33m\"\u001b[39m\u001b[33mjson_folder\u001b[39m\u001b[33m\"\u001b[39m,\u001b[33m\"\u001b[39m\u001b[33mcsv_folder\u001b[39m\u001b[33m\"\u001b[39m)\n",
      "\u001b[36mCell\u001b[39m\u001b[36m \u001b[39m\u001b[32mIn[16]\u001b[39m\u001b[32m, line 2\u001b[39m, in \u001b[36munzip_files\u001b[39m\u001b[34m(zip_path, extract_to)\u001b[39m\n\u001b[32m      1\u001b[39m \u001b[38;5;28;01mdef\u001b[39;00m\u001b[38;5;250m \u001b[39m\u001b[34munzip_files\u001b[39m(zip_path,extract_to):\n\u001b[32m----> \u001b[39m\u001b[32m2\u001b[39m     \u001b[38;5;28;01mwith\u001b[39;00m \u001b[43mzipfile\u001b[49m\u001b[43m.\u001b[49m\u001b[43mZipFile\u001b[49m\u001b[43m(\u001b[49m\u001b[43mzip_path\u001b[49m\u001b[43m,\u001b[49m\u001b[33;43m\"\u001b[39;49m\u001b[33;43mr\u001b[39;49m\u001b[33;43m\"\u001b[39;49m\u001b[43m)\u001b[49m \u001b[38;5;28;01mas\u001b[39;00m zf:\n\u001b[32m      3\u001b[39m         zf.extractall(extract_to)\n\u001b[32m      4\u001b[39m     \u001b[38;5;28;01mreturn\u001b[39;00m [os.path.join(extract_to,f) \u001b[38;5;28;01mfor\u001b[39;00m f \u001b[38;5;129;01min\u001b[39;00m os.listdir(extract_to)]\n",
      "\u001b[36mFile \u001b[39m\u001b[32m~\\AppData\\Local\\anaconda3\\Lib\\zipfile\\__init__.py:1367\u001b[39m, in \u001b[36mZipFile.__init__\u001b[39m\u001b[34m(self, file, mode, compression, allowZip64, compresslevel, strict_timestamps, metadata_encoding)\u001b[39m\n\u001b[32m   1365\u001b[39m \u001b[38;5;28;01mwhile\u001b[39;00m \u001b[38;5;28;01mTrue\u001b[39;00m:\n\u001b[32m   1366\u001b[39m     \u001b[38;5;28;01mtry\u001b[39;00m:\n\u001b[32m-> \u001b[39m\u001b[32m1367\u001b[39m         \u001b[38;5;28mself\u001b[39m.fp = \u001b[43mio\u001b[49m\u001b[43m.\u001b[49m\u001b[43mopen\u001b[49m\u001b[43m(\u001b[49m\u001b[43mfile\u001b[49m\u001b[43m,\u001b[49m\u001b[43m \u001b[49m\u001b[43mfilemode\u001b[49m\u001b[43m)\u001b[49m\n\u001b[32m   1368\u001b[39m     \u001b[38;5;28;01mexcept\u001b[39;00m \u001b[38;5;167;01mOSError\u001b[39;00m:\n\u001b[32m   1369\u001b[39m         \u001b[38;5;28;01mif\u001b[39;00m filemode \u001b[38;5;129;01min\u001b[39;00m modeDict:\n",
      "\u001b[31mFileNotFoundError\u001b[39m: [Errno 2] No such file or directory: ''"
     ]
    }
   ],
   "source": [
    "for zip_file in zip_files:\n",
    "    extracted_files = unzip_files(zip_file,\"temp_extract\")\n",
    "    move_files(extracted_files,\"json_folder\",\"csv_folder\")"
   ]
  },
  {
   "cell_type": "code",
   "execution_count": 22,
   "id": "dd9029c9-7cb5-4a74-9055-1863a157e7a7",
   "metadata": {},
   "outputs": [
    {
     "ename": "FileNotFoundError",
     "evalue": "[WinError 3] The system cannot find the path specified: 'temp_extract'",
     "output_type": "error",
     "traceback": [
      "\u001b[31m---------------------------------------------------------------------------\u001b[39m",
      "\u001b[31mFileNotFoundError\u001b[39m                         Traceback (most recent call last)",
      "\u001b[36mCell\u001b[39m\u001b[36m \u001b[39m\u001b[32mIn[22]\u001b[39m\u001b[32m, line 1\u001b[39m\n\u001b[32m----> \u001b[39m\u001b[32m1\u001b[39m \u001b[38;5;28;01mfor\u001b[39;00m file \u001b[38;5;129;01min\u001b[39;00m \u001b[43mos\u001b[49m\u001b[43m.\u001b[49m\u001b[43mlistdir\u001b[49m\u001b[43m(\u001b[49m\u001b[33;43m\"\u001b[39;49m\u001b[33;43mtemp_extract\u001b[39;49m\u001b[33;43m\"\u001b[39;49m\u001b[43m)\u001b[49m:\n\u001b[32m      2\u001b[39m     os.remove(os.path.join(\u001b[33m\"\u001b[39m\u001b[33mtemp_extract\u001b[39m\u001b[33m\"\u001b[39m,file))\n\u001b[32m      3\u001b[39m os.rmdir(\u001b[33m\"\u001b[39m\u001b[33mtemp_extract\u001b[39m\u001b[33m\"\u001b[39m)\n",
      "\u001b[31mFileNotFoundError\u001b[39m: [WinError 3] The system cannot find the path specified: 'temp_extract'"
     ]
    }
   ],
   "source": [
    "for file in os.listdir(\"temp_extract\"):\n",
    "    os.remove(os.path.join(\"temp_extract\",file))\n",
    "os.rmdir(\"temp_extract\")"
   ]
  },
  {
   "cell_type": "code",
   "execution_count": null,
   "id": "68912041-893f-44fe-8535-0fab0ec515f0",
   "metadata": {},
   "outputs": [],
   "source": []
  }
 ],
 "metadata": {
  "kernelspec": {
   "display_name": "Python 3 (ipykernel)",
   "language": "python",
   "name": "python3"
  },
  "language_info": {
   "codemirror_mode": {
    "name": "ipython",
    "version": 3
   },
   "file_extension": ".py",
   "mimetype": "text/x-python",
   "name": "python",
   "nbconvert_exporter": "python",
   "pygments_lexer": "ipython3",
   "version": "3.13.5"
  }
 },
 "nbformat": 4,
 "nbformat_minor": 5
}
