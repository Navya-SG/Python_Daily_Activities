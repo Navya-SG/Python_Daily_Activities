{
 "cells": [
  {
   "cell_type": "code",
   "execution_count": 15,
   "id": "e57bc765-9b62-4644-b0f2-f62fc3fc9080",
   "metadata": {},
   "outputs": [
    {
     "ename": "FileExistsError",
     "evalue": "[WinError 183] Cannot create a file when that file already exists: 'temp_nested\\\\sample_1.json' -> 'json_files\\\\sample_1.json'",
     "output_type": "error",
     "traceback": [
      "\u001b[31m---------------------------------------------------------------------------\u001b[39m",
      "\u001b[31mFileExistsError\u001b[39m                           Traceback (most recent call last)",
      "\u001b[36mCell\u001b[39m\u001b[36m \u001b[39m\u001b[32mIn[15]\u001b[39m\u001b[32m, line 43\u001b[39m\n\u001b[32m     40\u001b[39m     \u001b[38;5;28mprint\u001b[39m(\u001b[33m\"\u001b[39m\u001b[33m✅ Files are organized.\u001b[39m\u001b[33m\"\u001b[39m)\n\u001b[32m     42\u001b[39m \u001b[38;5;66;03m# 🔧 Example usage\u001b[39;00m\n\u001b[32m---> \u001b[39m\u001b[32m43\u001b[39m \u001b[43mprocess_main_zip\u001b[49m\u001b[43m(\u001b[49m\u001b[33;43m\"\u001b[39;49m\u001b[33;43mfinal_archive.zip\u001b[39;49m\u001b[33;43m\"\u001b[39;49m\u001b[43m)\u001b[49m  \u001b[38;5;66;03m# Replace with your actual zip file path\u001b[39;00m\n",
      "\u001b[36mCell\u001b[39m\u001b[36m \u001b[39m\u001b[32mIn[15]\u001b[39m\u001b[32m, line 32\u001b[39m, in \u001b[36mprocess_main_zip\u001b[39m\u001b[34m(main_zip_path)\u001b[39m\n\u001b[32m     30\u001b[39m     \u001b[38;5;28;01mif\u001b[39;00m zipfile.is_zipfile(nested_zip):\n\u001b[32m     31\u001b[39m         nested_extracted = unzip(nested_zip, \u001b[33m\"\u001b[39m\u001b[33mtemp_nested\u001b[39m\u001b[33m\"\u001b[39m)\n\u001b[32m---> \u001b[39m\u001b[32m32\u001b[39m         \u001b[43mmove\u001b[49m\u001b[43m(\u001b[49m\u001b[43mnested_extracted\u001b[49m\u001b[43m,\u001b[49m\u001b[43m \u001b[49m\u001b[33;43m'\u001b[39;49m\u001b[33;43mjson_files\u001b[39;49m\u001b[33;43m'\u001b[39;49m\u001b[43m,\u001b[49m\u001b[43m \u001b[49m\u001b[33;43m'\u001b[39;49m\u001b[33;43mcsv_files\u001b[39;49m\u001b[33;43m'\u001b[39;49m\u001b[43m)\u001b[49m\n\u001b[32m     34\u001b[39m \u001b[38;5;66;03m# Step 4: Cleanup temporary folders\u001b[39;00m\n\u001b[32m     35\u001b[39m \u001b[38;5;28;01mfor\u001b[39;00m folder \u001b[38;5;129;01min\u001b[39;00m [\u001b[33m\"\u001b[39m\u001b[33mtemp_main\u001b[39m\u001b[33m\"\u001b[39m, \u001b[33m\"\u001b[39m\u001b[33mtemp_nested\u001b[39m\u001b[33m\"\u001b[39m]:\n",
      "\u001b[36mCell\u001b[39m\u001b[36m \u001b[39m\u001b[32mIn[15]\u001b[39m\u001b[32m, line 17\u001b[39m, in \u001b[36mmove\u001b[39m\u001b[34m(file_list, json_folder, csv_folder)\u001b[39m\n\u001b[32m     15\u001b[39m file_name = os.path.basename(file_path)\n\u001b[32m     16\u001b[39m \u001b[38;5;28;01mif\u001b[39;00m file_path.endswith(\u001b[33m'\u001b[39m\u001b[33m.json\u001b[39m\u001b[33m'\u001b[39m):\n\u001b[32m---> \u001b[39m\u001b[32m17\u001b[39m     \u001b[43mos\u001b[49m\u001b[43m.\u001b[49m\u001b[43mrename\u001b[49m\u001b[43m(\u001b[49m\u001b[43mfile_path\u001b[49m\u001b[43m,\u001b[49m\u001b[43m \u001b[49m\u001b[43mos\u001b[49m\u001b[43m.\u001b[49m\u001b[43mpath\u001b[49m\u001b[43m.\u001b[49m\u001b[43mjoin\u001b[49m\u001b[43m(\u001b[49m\u001b[43mjson_folder\u001b[49m\u001b[43m,\u001b[49m\u001b[43m \u001b[49m\u001b[43mfile_name\u001b[49m\u001b[43m)\u001b[49m\u001b[43m)\u001b[49m\n\u001b[32m     18\u001b[39m \u001b[38;5;28;01melif\u001b[39;00m file_path.endswith(\u001b[33m'\u001b[39m\u001b[33m.csv\u001b[39m\u001b[33m'\u001b[39m):\n\u001b[32m     19\u001b[39m     os.rename(file_path, os.path.join(csv_folder, file_name))\n",
      "\u001b[31mFileExistsError\u001b[39m: [WinError 183] Cannot create a file when that file already exists: 'temp_nested\\\\sample_1.json' -> 'json_files\\\\sample_1.json'"
     ]
    }
   ],
   "source": [
    "import zipfile\n",
    "import os\n",
    "\n",
    "def create_folders(folder_list):\n",
    "    for folder in folder_list:\n",
    "        os.makedirs(folder, exist_ok=True)\n",
    "\n",
    "def unzip(zip_path, extract_to):\n",
    "    with zipfile.ZipFile(zip_path, \"r\") as zf:\n",
    "        zf.extractall(extract_to)\n",
    "    return [os.path.join(extract_to, f) for f in os.listdir(extract_to)]\n",
    "\n",
    "def move(file_list, json_folder, csv_folder):\n",
    "    for file_path in file_list:\n",
    "        file_name = os.path.basename(file_path)\n",
    "        if file_path.endswith('.json'):\n",
    "            os.rename(file_path, os.path.join(json_folder, file_name))\n",
    "        elif file_path.endswith('.csv'):\n",
    "            os.rename(file_path, os.path.join(csv_folder, file_name))\n",
    "\n",
    "def process_main_zip(main_zip_path):\n",
    "    # Step 1: Create necessary folders\n",
    "    create_folders(['json_files', 'csv_files', 'temp_main', 'temp_nested'])\n",
    "\n",
    "    # Step 2: Unzip the main zip file\n",
    "    main_extracted = unzip(main_zip_path, \"temp_main\")\n",
    "\n",
    "    # Step 3: Loop through each zip file inside the main zip\n",
    "    for nested_zip in main_extracted:\n",
    "        if zipfile.is_zipfile(nested_zip):\n",
    "            nested_extracted = unzip(nested_zip, \"temp_nested\")\n",
    "            move(nested_extracted, 'json_files', 'csv_files')\n",
    "\n",
    "    # Step 4: Cleanup temporary folders\n",
    "    for folder in [\"temp_main\", \"temp_nested\"]:\n",
    "        for f in os.listdir(folder):\n",
    "            os.remove(os.path.join(folder, f))\n",
    "        os.rmdir(folder)\n",
    "\n",
    "    print(\"✅ Files are organized.\")\n",
    "\n",
    "# 🔧 Example usage\n",
    "process_main_zip(\"final_archive.zip\")  # Replace with your actual zip file path\n"
   ]
  },
  {
   "cell_type": "code",
   "execution_count": null,
   "id": "8b336cdc-c6d8-4437-bc82-ffc5ce25fa77",
   "metadata": {},
   "outputs": [],
   "source": []
  }
 ],
 "metadata": {
  "kernelspec": {
   "display_name": "Python 3 (ipykernel)",
   "language": "python",
   "name": "python3"
  },
  "language_info": {
   "codemirror_mode": {
    "name": "ipython",
    "version": 3
   },
   "file_extension": ".py",
   "mimetype": "text/x-python",
   "name": "python",
   "nbconvert_exporter": "python",
   "pygments_lexer": "ipython3",
   "version": "3.13.5"
  }
 },
 "nbformat": 4,
 "nbformat_minor": 5
}
