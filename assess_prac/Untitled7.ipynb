{
 "cells": [
  {
   "cell_type": "code",
   "execution_count": 12,
   "id": "3f0a45ed-5b52-4ca4-872b-32232bc99210",
   "metadata": {},
   "outputs": [
    {
     "data": {
      "text/plain": [
       "[1, 4, 6, 45, 65, 92]"
      ]
     },
     "execution_count": 12,
     "metadata": {},
     "output_type": "execute_result"
    }
   ],
   "source": [
    "def insertion_sort(arr):\n",
    "    for i in range(1,len(arr)):\n",
    "        key=arr[i]\n",
    "        j=i-1\n",
    "        while j>=0 and arr[j]>key:\n",
    "            arr[j+1]=arr[j]\n",
    "            j -=1\n",
    "        arr[j+1]=key\n",
    "    return arr\n",
    "arr=[45,6,4,65,92,1]\n",
    "insertion_sort(arr)"
   ]
  },
  {
   "cell_type": "code",
   "execution_count": 8,
   "id": "f078e4f2-7b4c-4420-a08c-155ae1ed62e6",
   "metadata": {},
   "outputs": [
    {
     "data": {
      "text/plain": [
       "[1, 4, 6, 45, 65, 92]"
      ]
     },
     "execution_count": 8,
     "metadata": {},
     "output_type": "execute_result"
    }
   ],
   "source": [
    "def selection_sort(arr):\n",
    "    for i in range(len(arr)):\n",
    "        min_idx=i\n",
    "        for j in range(i+1,len(arr)):\n",
    "            if arr[j]<arr[min_idx]:\n",
    "                min_idx=j\n",
    "        arr[i],arr[min_idx]=arr[min_idx],arr[i]\n",
    "    return arr\n",
    "arr=[45,6,4,65,92,1]\n",
    "selection_sort(arr)"
   ]
  },
  {
   "cell_type": "code",
   "execution_count": 13,
   "id": "8e972309-f218-4b10-a1cb-b8c45db5e5cf",
   "metadata": {},
   "outputs": [
    {
     "data": {
      "text/plain": [
       "[1, 4, 6, 45, 65, 92]"
      ]
     },
     "execution_count": 13,
     "metadata": {},
     "output_type": "execute_result"
    }
   ],
   "source": [
    "def bubble_sort(arr):\n",
    "    n=len(arr)\n",
    "    for i in range(n):\n",
    "        swapped=False\n",
    "        for j in range(0,n-i-1):\n",
    "            if arr[j]>arr[j+1]:\n",
    "                arr[j],arr[j+1]=arr[j+1],arr[j]\n",
    "                swapped=True\n",
    "        if not swapped:\n",
    "            break\n",
    "    return arr\n",
    "arr=[45,6,4,65,92,1]\n",
    "bubble_sort(arr)"
   ]
  },
  {
   "cell_type": "code",
   "execution_count": 15,
   "id": "0640d2ee-c0a9-4fb4-a029-4804a2c48b92",
   "metadata": {},
   "outputs": [
    {
     "data": {
      "text/plain": [
       "[1, 4, 6, 45, 65, 92]"
      ]
     },
     "execution_count": 15,
     "metadata": {},
     "output_type": "execute_result"
    }
   ],
   "source": [
    "def insertion_sort(arr):\n",
    "    for i in range(1,len(arr)):\n",
    "        key = arr[i]\n",
    "        j=i-1\n",
    "        while j>=0 and arr[j]>key:\n",
    "            arr[j+1]=arr[j]\n",
    "            j-=1\n",
    "            arr[j+1]=key\n",
    "    return arr\n",
    "arr=[45,6,4,65,92,1]\n",
    "insertion_sort(arr)"
   ]
  },
  {
   "cell_type": "code",
   "execution_count": 16,
   "id": "3301cda8-ac0c-43d8-bffd-b851431beab0",
   "metadata": {},
   "outputs": [
    {
     "data": {
      "text/plain": [
       "[1, 4, 6, 45, 65, 92]"
      ]
     },
     "execution_count": 16,
     "metadata": {},
     "output_type": "execute_result"
    }
   ],
   "source": [
    "def selection_sort(arr):\n",
    "    for i in range(len(arr)):\n",
    "        min_idx=i\n",
    "        for j in range(i+1,len(arr)):\n",
    "            if arr[j]<arr[min_idx]:\n",
    "                min_idx=j\n",
    "        arr[i],arr[min_idx]=arr[min_idx],arr[i]\n",
    "    return arr\n",
    "arr=[45,6,4,65,92,1]\n",
    "selection_sort(arr)"
   ]
  },
  {
   "cell_type": "code",
   "execution_count": 18,
   "id": "df47651b-9858-4da8-bb28-ca9f82617e9f",
   "metadata": {},
   "outputs": [
    {
     "data": {
      "text/plain": [
       "[1, 4, 6, 45, 65, 92]"
      ]
     },
     "execution_count": 18,
     "metadata": {},
     "output_type": "execute_result"
    }
   ],
   "source": [
    "def bubble_sort(arr):\n",
    "    n=len(arr)\n",
    "    for i in range(n):\n",
    "        swapped=False\n",
    "        for j in range(0,n-i-1):\n",
    "            if arr[j] > arr[j+1]:\n",
    "                arr[j],arr[j+1]=arr[j+1],arr[j]\n",
    "                swapped=True\n",
    "        if not swapped:\n",
    "            break\n",
    "    return arr\n",
    "arr=[45,6,4,65,92,1]\n",
    "bubble_sort(arr)"
   ]
  },
  {
   "cell_type": "code",
   "execution_count": 21,
   "id": "11dd5359-06a6-40ad-97ad-d87dd9061d6a",
   "metadata": {},
   "outputs": [
    {
     "name": "stdin",
     "output_type": "stream",
     "text": [
      "enter target: 7\n"
     ]
    },
    {
     "name": "stdout",
     "output_type": "stream",
     "text": [
      "index of target: 3\n"
     ]
    }
   ],
   "source": [
    "def linear_search(arr,target):\n",
    "    for i,value in enumerate(arr):\n",
    "        if value==target:\n",
    "            return i\n",
    "    return -1\n",
    "arr=[25, 38, 10, 7, 10]\n",
    "target=int(input(\"enter target:\"))\n",
    "res = linear_search(arr,target)\n",
    "print(\"index of target:\",res)"
   ]
  },
  {
   "cell_type": "code",
   "execution_count": 28,
   "id": "aca6c579-5fe4-464a-82a4-d7a704055927",
   "metadata": {},
   "outputs": [
    {
     "name": "stdin",
     "output_type": "stream",
     "text": [
      "enter target: 7\n"
     ]
    },
    {
     "name": "stdout",
     "output_type": "stream",
     "text": [
      "index of target: 3\n"
     ]
    }
   ],
   "source": [
    "def linear_search(arr,target):\n",
    "    for i,value in enumerate(arr):\n",
    "        if value == target:\n",
    "            return i\n",
    "    return \"not found\"\n",
    "arr=[25, 38, 10, 7, 10]\n",
    "target=int(input(\"enter target:\"))\n",
    "res = linear_search(arr,target)\n",
    "print(\"index of target:\",res)"
   ]
  },
  {
   "cell_type": "code",
   "execution_count": 39,
   "id": "0b6ad816-e8a9-473d-a536-c1f67cab171c",
   "metadata": {},
   "outputs": [
    {
     "name": "stdin",
     "output_type": "stream",
     "text": [
      "enter target: 01\n"
     ]
    },
    {
     "name": "stdout",
     "output_type": "stream",
     "text": [
      "index of target: []\n"
     ]
    }
   ],
   "source": [
    "def linear_search(arr,target):\n",
    "    indices=[]\n",
    "    for i,value in enumerate(arr):\n",
    "        if value == target:\n",
    "            indices.append(i)\n",
    "    return indices\n",
    "arr=[25, 38, 10, 7, 10]\n",
    "target=int(input(\"enter target:\"))\n",
    "res = linear_search(arr,target)\n",
    "print(\"index of target:\",res)"
   ]
  },
  {
   "cell_type": "code",
   "execution_count": 67,
   "id": "d70f6f51-6491-4d8a-a580-33471a994132",
   "metadata": {},
   "outputs": [
    {
     "name": "stdin",
     "output_type": "stream",
     "text": [
      "enter target: 10\n"
     ]
    },
    {
     "data": {
      "text/plain": [
       "[2]"
      ]
     },
     "execution_count": 67,
     "metadata": {},
     "output_type": "execute_result"
    }
   ],
   "source": [
    "def linear_search_all_occurrences(arr, target):\n",
    "    indices = [i for i, value in enumerate(arr) if value == target]\n",
    "    return indices if indices else \"not found\"\n",
    "arr=[25, 38, 10, 7]\n",
    "target=int(input(\"enter target:\"))\n",
    "linear_search(arr,target)"
   ]
  },
  {
   "cell_type": "code",
   "execution_count": 55,
   "id": "d1e2decb-4bba-4ee8-a50d-65307b6345ac",
   "metadata": {},
   "outputs": [
    {
     "name": "stdin",
     "output_type": "stream",
     "text": [
      "enter from [25, 38, 10, 7, 45] 45\n"
     ]
    },
    {
     "data": {
      "text/plain": [
       "4"
      ]
     },
     "execution_count": 55,
     "metadata": {},
     "output_type": "execute_result"
    }
   ],
   "source": [
    "def binary_search(a, target):\n",
    "    left,right=0,len(a)-1\n",
    "    while left<=right:\n",
    "        mid=left+(right-left)//2\n",
    "        if a[mid]==target:\n",
    "            return mid\n",
    "        elif a[mid]<target:\n",
    "            left=mid+1\n",
    "        else:\n",
    "            right=mid-1\n",
    "    return -1\n",
    "arr = [25, 38, 10, 7, 45]\n",
    "arr.sort() #[7,10,25,38,45]\n",
    "target = int(input(\"enter from [25, 38, 10, 7, 45]\"))\n",
    "binary_search(arr,target)"
   ]
  },
  {
   "cell_type": "code",
   "execution_count": 60,
   "id": "533c720b-3440-4b0e-844e-e8bc40cb1ebc",
   "metadata": {},
   "outputs": [
    {
     "name": "stdin",
     "output_type": "stream",
     "text": [
      "enter from [25, 38, 10, 7, 45] 45\n"
     ]
    },
    {
     "data": {
      "text/plain": [
       "4"
      ]
     },
     "execution_count": 60,
     "metadata": {},
     "output_type": "execute_result"
    }
   ],
   "source": [
    "def binary_search(arr, target):\n",
    "    left,right=0,len(arr)-1\n",
    "    while left<=right:\n",
    "        mid=left+(right-left)//2\n",
    "        if arr[mid]==target:\n",
    "            return mid\n",
    "        elif arr[mid]<target:\n",
    "            left = mid+1\n",
    "        else:\n",
    "            right=mid-1\n",
    "    return -1\n",
    "arr = [25, 38, 10, 7, 45]\n",
    "arr.sort() #[7,10,25,38,45]\n",
    "target = int(input(\"enter from [25, 38, 10, 7, 45]\"))\n",
    "binary_search(arr,target)"
   ]
  },
  {
   "cell_type": "code",
   "execution_count": 62,
   "id": "ee42ec2c-09fa-482d-a04b-91aa410e18c0",
   "metadata": {},
   "outputs": [
    {
     "data": {
      "text/plain": [
       "[7, 10, 25, 38, 45]"
      ]
     },
     "execution_count": 62,
     "metadata": {},
     "output_type": "execute_result"
    }
   ],
   "source": [
    "def quick_sort(arr):\n",
    "    if len(arr)<=1:\n",
    "        return arr\n",
    "    pivot=arr[len(arr)//2]\n",
    "    left=[x for x in arr if x<pivot]\n",
    "    middle=[x for x in arr if x==pivot]\n",
    "    right=[x for x in arr if x>pivot]\n",
    "    return quick_sort(left)+middle+quick_sort(right)\n",
    "arr = [25, 38, 10, 7, 45]\n",
    "quick_sort(arr)"
   ]
  },
  {
   "cell_type": "code",
   "execution_count": null,
   "id": "5519c2f5-34f2-4d92-a9ec-c8d040451bbe",
   "metadata": {},
   "outputs": [],
   "source": []
  }
 ],
 "metadata": {
  "kernelspec": {
   "display_name": "Python 3 (ipykernel)",
   "language": "python",
   "name": "python3"
  },
  "language_info": {
   "codemirror_mode": {
    "name": "ipython",
    "version": 3
   },
   "file_extension": ".py",
   "mimetype": "text/x-python",
   "name": "python",
   "nbconvert_exporter": "python",
   "pygments_lexer": "ipython3",
   "version": "3.13.5"
  }
 },
 "nbformat": 4,
 "nbformat_minor": 5
}
