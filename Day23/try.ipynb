{
 "cells": [
  {
   "cell_type": "code",
   "execution_count": 49,
   "id": "230a0df0",
   "metadata": {},
   "outputs": [],
   "source": [
    "class Circle:\n",
    "    def __init__(self,radius):\n",
    "        self.radius=radius\n",
    "    def area(self):\n",
    "        return 3.14*self.radius**2"
   ]
  },
  {
   "cell_type": "code",
   "execution_count": 50,
   "id": "eb5c956b",
   "metadata": {},
   "outputs": [],
   "source": [
    "class Rectangle:\n",
    "    def __init__(self,width,height):\n",
    "        self.width=width\n",
    "        self.height=height\n",
    "    def area(self):\n",
    "        return self.width*self.height"
   ]
  },
  {
   "cell_type": "code",
   "execution_count": 51,
   "id": "386a8133",
   "metadata": {},
   "outputs": [],
   "source": [
    "class Triangle:\n",
    "    def __init__(self,base,height):\n",
    "        self.base=base\n",
    "        self.height=height\n",
    "    def area(self):\n",
    "        return 0.5*self.base*self.height"
   ]
  },
  {
   "cell_type": "code",
   "execution_count": 61,
   "id": "efc45146",
   "metadata": {},
   "outputs": [],
   "source": [
    "\n",
    "def print_area(shape):\n",
    "    print(\"Area:\",shape.area())"
   ]
  },
  {
   "cell_type": "code",
   "execution_count": 62,
   "id": "be27d3cd",
   "metadata": {},
   "outputs": [],
   "source": [
    "circle = Circle(5)\n",
    "rectangle = Rectangle(4,6)\n",
    "triangle = Triangle(3,6)\n"
   ]
  },
  {
   "cell_type": "code",
   "execution_count": 63,
   "id": "20a8c8ef",
   "metadata": {},
   "outputs": [
    {
     "name": "stdout",
     "output_type": "stream",
     "text": [
      "Area: 78.5\n",
      "Area: 24\n",
      "Area: 9.0\n"
     ]
    }
   ],
   "source": [
    "print_area(circle)\n",
    "print_area(rectangle)\n",
    "print_area(triangle)"
   ]
  },
  {
   "cell_type": "code",
   "execution_count": null,
   "id": "e0c91ed2",
   "metadata": {},
   "outputs": [],
   "source": []
  }
 ],
 "metadata": {
  "kernelspec": {
   "display_name": "base",
   "language": "python",
   "name": "python3"
  },
  "language_info": {
   "codemirror_mode": {
    "name": "ipython",
    "version": 3
   },
   "file_extension": ".py",
   "mimetype": "text/x-python",
   "name": "python",
   "nbconvert_exporter": "python",
   "pygments_lexer": "ipython3",
   "version": "3.13.5"
  }
 },
 "nbformat": 4,
 "nbformat_minor": 5
}
