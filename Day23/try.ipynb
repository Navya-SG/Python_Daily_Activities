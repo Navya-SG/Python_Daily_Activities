{
 "cells": [
  {
   "cell_type": "code",
   "execution_count": 1,
   "id": "230a0df0",
   "metadata": {},
   "outputs": [
    {
     "name": "stdout",
     "output_type": "stream",
     "text": [
      "Toyota XXXXX\n",
      "Toyota YYYYY\n"
     ]
    }
   ],
   "source": [
    "class Car:\n",
    "    brand = \"Toyota\"  \n",
    "    def __init__(self,number_plate):\n",
    "        self.number_plate = number_plate  \n",
    "car1=Car(\"XXXXX\")\n",
    "car2=Car(\"YYYYY\")\n",
    "print(car1.brand,car1.number_plate) \n",
    "print(car2.brand,car2.number_plate)"
   ]
  }
 ],
 "metadata": {
  "kernelspec": {
   "display_name": "base",
   "language": "python",
   "name": "python3"
  },
  "language_info": {
   "codemirror_mode": {
    "name": "ipython",
    "version": 3
   },
   "file_extension": ".py",
   "mimetype": "text/x-python",
   "name": "python",
   "nbconvert_exporter": "python",
   "pygments_lexer": "ipython3",
   "version": "3.13.5"
  }
 },
 "nbformat": 4,
 "nbformat_minor": 5
}
