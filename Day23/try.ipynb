{
 "cells": [
  {
   "cell_type": "code",
   "execution_count": null,
   "id": "230a0df0",
   "metadata": {},
   "outputs": [
    {
     "name": "stdout",
     "output_type": "stream",
     "text": [
      "1000\n",
      "Deposited: 500\n",
      "1500\n",
      "Insufficient balance or invalid amount.\n",
      "Withdrawn: 300\n",
      "1200\n"
     ]
    }
   ],
   "source": [
    "class Bankacc:\n",
    "    def __init__(self,bal):\n",
    "        self.__balance = bal \n",
    "    def deposit(self,amount):\n",
    "        if amount > 0:\n",
    "            self.__balance += amount\n",
    "            print(f\"Deposited:{amount}\")\n",
    "        else:\n",
    "            print(\"Deposit amount must be positive.\")\n",
    "    def withdraw(self,amount):\n",
    "        if 0 < amount <= self.__balance:\n",
    "            self.__balance -= amount\n",
    "            print(f\"Withdrawn:{amount}\")\n",
    "        else:\n",
    "            print(\"Insufficient balance or invalid amount.\")\n",
    "    def get_balance(self):\n",
    "        return self.__balance\n",
    "account=Bankacc(1000)\n",
    "print(account.get_balance())\n",
    "account.deposit(500)        \n",
    "print(account.get_balance())\n",
    "account.withdraw(2000)      \n",
    "account.withdraw(300)        \n",
    "print(account.get_balance()) "
   ]
  }
 ],
 "metadata": {
  "kernelspec": {
   "display_name": "base",
   "language": "python",
   "name": "python3"
  },
  "language_info": {
   "codemirror_mode": {
    "name": "ipython",
    "version": 3
   },
   "file_extension": ".py",
   "mimetype": "text/x-python",
   "name": "python",
   "nbconvert_exporter": "python",
   "pygments_lexer": "ipython3",
   "version": "3.13.5"
  }
 },
 "nbformat": 4,
 "nbformat_minor": 5
}
