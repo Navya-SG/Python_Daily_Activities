#!/usr/bin/env python
# coding: utf-8

# In[207]:


import pandas as pd
import zipfile


# In[208]:


dj=pd.read_json("new_airline_data_2024 (1).json")
dc=pd.read_csv("old_airline_data_2023 (1).csv")


# In[209]:


print(dj.isnull().sum())


# In[210]:


num_data=dj.select_dtypes(include='number').fillna(dj.select_dtypes(include='number').mean())
dj[num_data.columns]=num_data


# In[211]:


print(dj)


# In[212]:


dj.dropna(subset=num_data.columns,inplace=True)


# In[213]:


val_mon=['Jan','Feb','Mar','Apr','May','Jun','Jul','Aug','Sep','Oct','Nov','Dec']
dj[dj["Month"].isin(val_mon)]


# In[214]:


dj.columns=dj.columns.str.lower().str.replace(" ","_")
dj["month"]=dj["month"].str.capitalize()


# In[215]:


dj=dj.drop_duplicates(subset="month")


# In[216]:


print(dj)


# In[217]:


dc.columns=dc.columns.str.lower().str.replace(" ","_")
dc["month"]=dc["month"].str.capitalize()


# In[218]:


new=pd.concat([dc,dj],ignore_index=True)
print(new)


# In[219]:


print(dc.count)


# In[220]:


new["year"]=[2023 if i < 47 else 2024 for i in range(len(new))]
print(new)


# In[221]:


new[new["month"].isin(val_mon)]


# In[222]:


new.sort_values("year")


# In[223]:


new["month"]=pd.Categorical(new["month"],categories=val_mon,ordered=True)


# In[224]:


print(new)


# In[225]:


new["pct_diff_target"]= ((new["passengers_carried"]-new["target_passengers"])/new["target_passengers"])*100
print(new)


# In[226]:


target_not_achieved=new[new["pct_diff_target"] < 0][["year","month","pct_diff_target"]]
print(target_not_achieved)


# In[227]:


total_passengers_carried = new.groupby("year")["passengers_carried"].sum().reset_index()
total_flights_operated = new.groupby("year")["flights_operated"].sum().reset_index()
average_pct_diff_target = new.groupby("year")["pct_diff_target"].mean().reset_index()
#print(total_passengers_carried,total_flights_operated,average_pct_diff_target)
annual_summary=total_passengers_carried\
.merge(total_flights_operated,on="year")\
.merge(average_pct_diff_target,on="year")
print(annual_summary)


# In[228]:


best_perf = new.loc[new["pct_diff_target"].idxmin()]
worst_perf = new.loc[new["pct_diff_target"].idxmax()]


# In[229]:


print(new)


# In[230]:


new=new.to_csv("combined_airline_data.csv")
target_not_achieved=target_not_achieved.to_csv("target_not_achieved.csv")
annual_summary=annual_summary.to_json("yearly_summary.json")


# In[231]:


with zipfile.ZipFile("airline_analysis_outputs1.zip","w") as zf:
    zf.write("combined_airline_data.csv")
    zf.write("target_not_achieved.csv")
    zf.write("yearly_summary.json")


# In[ ]:





# In[ ]:




