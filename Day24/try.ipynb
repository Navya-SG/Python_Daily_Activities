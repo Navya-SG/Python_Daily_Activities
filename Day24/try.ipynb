{
 "cells": [
  {
   "cell_type": "code",
   "execution_count": 5,
   "id": "46f535c6",
   "metadata": {},
   "outputs": [],
   "source": [
    "import json\n",
    "import csv"
   ]
  },
  {
   "cell_type": "code",
   "execution_count": 6,
   "id": "64798dbf",
   "metadata": {},
   "outputs": [],
   "source": [
    "with open(\"data.json\",\"r\") as f:\n",
    "    data=json.load(f)"
   ]
  },
  {
   "cell_type": "code",
   "execution_count": null,
   "id": "f6e0d78e",
   "metadata": {},
   "outputs": [],
   "source": [
    "category_summary = {\n",
    "    \"fruits\":{\"units_sold\":0,\"profit\":0},\n",
    "    \"groceries\":{\"units_sold\":0,\"profit\":0},\n",
    "    \"vegetables\":{\"units_sold\":0,\"profit\":0},\n",
    "    \"diary\":{\"units_sold\":0,\"profit\":0},\n",
    "}\n",
    "warnings=[]"
   ]
  },
  {
   "cell_type": "code",
   "execution_count": null,
   "id": "058823ef",
   "metadata": {},
   "outputs": [],
   "source": [
    "with open(\"report.csv\",\"w\",newline=\"\") as cf:\n",
    "    writer=csv.DictWriter(cf,fieldnames=f[\"store_name\",\"category\",\"item\",\"initial_stock\",\"closing_stock\",\"units_sold\",\"profit\",\"warning\"])\n",
    "    writer.writeheader()"
   ]
  },
  {
   "cell_type": "code",
   "execution_count": 14,
   "id": "d6b569aa",
   "metadata": {},
   "outputs": [],
   "source": [
    "for store in data[\"stores\"]:\n",
    "    store_name = store[\"name\"]\n",
    "    for category in [\"fruits\", \"groceries\", \"vegetables\", \"dairy\"]:\n",
    "        for item,details in store[category].items():\n",
    "            initial_stock = details[\"initial_stock\"]\n",
    "            closing_stock = details[\"stock\"]\n",
    "            cost_price = details[\"cost_price\"]\n",
    "            selling_price = details[\"selling_price\"]\n",
    "            units_sold = initial_stock - closing_stock\n",
    "            profit = units_sold * (selling_price - cost_price)"
   ]
  },
  {
   "cell_type": "code",
   "execution_count": 16,
   "id": "86d50196",
   "metadata": {},
   "outputs": [
    {
     "ename": "KeyError",
     "evalue": "'dairy'",
     "output_type": "error",
     "traceback": [
      "\u001b[31m---------------------------------------------------------------------------\u001b[39m",
      "\u001b[31mKeyError\u001b[39m                                  Traceback (most recent call last)",
      "\u001b[36mCell\u001b[39m\u001b[36m \u001b[39m\u001b[32mIn[16]\u001b[39m\u001b[32m, line 1\u001b[39m\n\u001b[32m----> \u001b[39m\u001b[32m1\u001b[39m \u001b[43mcategory_summary\u001b[49m\u001b[43m[\u001b[49m\u001b[43mcategory\u001b[49m\u001b[43m]\u001b[49m[\u001b[33m\"\u001b[39m\u001b[33munits_sold\u001b[39m\u001b[33m\"\u001b[39m] += units_sold\n\u001b[32m      2\u001b[39m category_summary[category][\u001b[33m\"\u001b[39m\u001b[33mprofit\u001b[39m\u001b[33m\"\u001b[39m] += profit\n",
      "\u001b[31mKeyError\u001b[39m: 'dairy'"
     ]
    }
   ],
   "source": [
    "category_summary[category][\"units_sold\"] += units_sold\n",
    "category_summary[category][\"profit\"] += profit"
   ]
  },
  {
   "cell_type": "code",
   "execution_count": null,
   "id": "c96ade0b",
   "metadata": {},
   "outputs": [],
   "source": []
  }
 ],
 "metadata": {
  "kernelspec": {
   "display_name": "base",
   "language": "python",
   "name": "python3"
  },
  "language_info": {
   "codemirror_mode": {
    "name": "ipython",
    "version": 3
   },
   "file_extension": ".py",
   "mimetype": "text/x-python",
   "name": "python",
   "nbconvert_exporter": "python",
   "pygments_lexer": "ipython3",
   "version": "3.13.5"
  }
 },
 "nbformat": 4,
 "nbformat_minor": 5
}
